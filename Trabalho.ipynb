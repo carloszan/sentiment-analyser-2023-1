{
 "cells": [
  {
   "cell_type": "markdown",
   "id": "07a4b692-d448-4ec1-90f1-181f1086117d",
   "metadata": {},
   "source": [
    "# Sentiment Analysis\n",
    "\n",
    "Análise de sentimentos é uma tarefa aprendizado de máquina de classificação de texto. Ela pode categorizar textos como \"positivos\", \"negativos\" ou \"neutros\".\n",
    "\n",
    "As técnicas de análise de sentimento podem variar entre tecnicas de aprendizado de máquina, lexicon-based e métodos híbridos.\n",
    "\n",
    "Para medir os modelos, geralmente sao utilizados datasets como SST, GLUE e IMDB movie reviews."
   ]
  },
  {
   "cell_type": "markdown",
   "id": "abe3da7d-fae0-4706-ae40-6a6da5ad11cb",
   "metadata": {},
   "source": [
    "# Motivação e Importância\n",
    "\n",
    "Em tempos de redes sociais, medir o que os clientes acham de seus produtos é de suma importancia. Ler milhares de comentarios e tentar sumarizar isso é uma tarefa ardua e cansativa para um ser humano.\n",
    "\n",
    "Nesse contexto temos tecnicas onde textos são processados e rapidamente temos uma resposta do seu produto. Esses textos podem vir de redes sociais, como Twitter ou de caixa de comentarios de um marketplace como a Amazon.\n",
    "\n",
    "Com isso, stackholders podem rapidamente tomar decisoes e mudar o curso de um produto que nao está indo tao bem."
   ]
  },
  {
   "cell_type": "markdown",
   "id": "acf03b31-ca62-4898-8fc6-3ff1ae246356",
   "metadata": {},
   "source": [
    "# Objetivos\n",
    "\n",
    "Esse trabalho tem como objetivo testar alguns modelos e ver o quão bem eles se saem em tarefas simples de analise de sentimento.\n",
    "\n",
    "Além disso, será um trabalho para familiarizar com as ferramentas mais utilizadas de Ciências de Dados, já que o background do autor é em desenvolvimento de software."
   ]
  },
  {
   "attachments": {},
   "cell_type": "markdown",
   "id": "6fb999ad",
   "metadata": {},
   "source": [
    "# Revisao Bibliografica"
   ]
  },
  {
   "cell_type": "markdown",
   "id": "8a5f16c1-7e43-4aef-a46e-cdab3bff99f2",
   "metadata": {},
   "source": [
    "# Links úteis\n",
    "\n",
    "## Datasets\n",
    "- https://paperswithcode.com/task/sentiment-analysis\n",
    "\n",
    "## Tutorias\n",
    "- https://www.analyticsvidhya.com/blog/2022/02/sentiment-analysis-using-transformers/\n",
    "\n",
    "## Artigos\n",
    "- https://www.sciencedirect.com/science/article/pii/S2590005622000224 (Transformer-based deep learning model)\n",
    "- https://arxiv.org/pdf/1910.10683v3.pdf (Explorando os limites de transfer learning)\n",
    "- https://arxiv.org/pdf/1810.04805v2.pdf (BERT)"
   ]
  },
  {
   "attachments": {},
   "cell_type": "markdown",
   "id": "40c7011d",
   "metadata": {},
   "source": [
    "# Base de Dados\n",
    "\n",
    "O IMDB Movie reviews é uma base de dados para analise de sentimentos. Contem cerca de 50.000 registros de filmes no site IMDB.com rotuladas como positivas ou negativas.\n",
    "\n",
    "Sera feito uma analise exploratoria dos dados e descobriremos como esses dados estao estruturados\n"
   ]
  },
  {
   "cell_type": "code",
   "execution_count": 2,
   "id": "6fb12874",
   "metadata": {},
   "outputs": [],
   "source": [
    "import pandas as pd\n",
    "import numpy as np"
   ]
  },
  {
   "cell_type": "code",
   "execution_count": null,
   "id": "35b50c32",
   "metadata": {},
   "outputs": [],
   "source": []
  }
 ],
 "metadata": {
  "kernelspec": {
   "display_name": "Python 3 (ipykernel)",
   "language": "python",
   "name": "python3"
  },
  "language_info": {
   "codemirror_mode": {
    "name": "ipython",
    "version": 3
   },
   "file_extension": ".py",
   "mimetype": "text/x-python",
   "name": "python",
   "nbconvert_exporter": "python",
   "pygments_lexer": "ipython3",
   "version": "3.9.12"
  }
 },
 "nbformat": 4,
 "nbformat_minor": 5
}
