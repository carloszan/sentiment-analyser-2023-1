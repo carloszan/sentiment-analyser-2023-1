{
 "cells": [
  {
   "cell_type": "markdown",
   "id": "07a4b692-d448-4ec1-90f1-181f1086117d",
   "metadata": {},
   "source": [
    "# Sentiment Analysis\n",
    "\n",
    "Análise de sentimentos é uma tarefa aprendizado de máquina de classificação de texto. Ela pode categorizar textos como \"positivos\", \"negativos\" ou \"neutros\".\n",
    "\n",
    "As técnicas de análise de sentimento podem variar entre tecnicas de aprendizado de máquina, lexicon-based e métodos híbridos.\n",
    "\n",
    "Para medir os modelos, geralmente sao utilizados datasets como SST, GLUE e IMDB movie reviews."
   ]
  },
  {
   "cell_type": "markdown",
   "id": "abe3da7d-fae0-4706-ae40-6a6da5ad11cb",
   "metadata": {},
   "source": [
    "# Motivação e Importância\n",
    "\n",
    "Em tempos de redes sociais, medir o que os clientes acham de seus produtos é de suma importancia. Ler milhares de comentarios e tentar sumarizar isso é uma tarefa ardua e cansativa para um ser humano.\n",
    "\n",
    "Nesse contexto temos tecnicas onde textos são processados e rapidamente temos uma resposta do seu produto. Esses textos podem vir de redes sociais, como Twitter ou de caixa de comentarios de um marketplace como a Amazon.\n",
    "\n",
    "Com isso, stackholders podem rapidamente tomar decisoes e mudar o curso de um produto que nao está indo tao bem."
   ]
  },
  {
   "cell_type": "markdown",
   "id": "acf03b31-ca62-4898-8fc6-3ff1ae246356",
   "metadata": {},
   "source": [
    "# Objetivos\n",
    "\n",
    "Esse trabalho tem como objetivo testar alguns modelos e ver o quão bem eles se saem em tarefas simples de analise de sentimento.\n",
    "\n",
    "Além disso, será um trabalho para familiarizar com as ferramentas mais utilizadas de Ciências de Dados, já que o background do autor é em desenvolvimento de software."
   ]
  },
  {
   "attachments": {},
   "cell_type": "markdown",
   "id": "6fb999ad",
   "metadata": {},
   "source": [
    "# Revisao Bibliografica"
   ]
  },
  {
   "cell_type": "markdown",
   "id": "8a5f16c1-7e43-4aef-a46e-cdab3bff99f2",
   "metadata": {},
   "source": [
    "# Links úteis\n",
    "\n",
    "## Datasets\n",
    "- https://paperswithcode.com/task/sentiment-analysis\n",
    "\n",
    "## Tutorias\n",
    "- https://www.analyticsvidhya.com/blog/2022/02/sentiment-analysis-using-transformers/\n",
    "\n",
    "## Artigos\n",
    "- https://www.sciencedirect.com/science/article/pii/S2590005622000224 (Transformer-based deep learning model)\n",
    "- https://arxiv.org/pdf/1910.10683v3.pdf (Explorando os limites de transfer learning)\n",
    "- https://arxiv.org/pdf/1810.04805v2.pdf (BERT)"
   ]
  },
  {
   "attachments": {},
   "cell_type": "markdown",
   "id": "40c7011d",
   "metadata": {},
   "source": [
    "# Base de Dados\n",
    "\n",
    "O IMDB Movie reviews é uma base de dados para analise de sentimentos. Contem cerca de 50.000 registros de filmes no site IMDB.com rotuladas como positivas ou negativas.\n",
    "\n",
    "Sera feito uma analise exploratoria dos dados e descobriremos como esses dados estao estruturados\n"
   ]
  },
  {
   "cell_type": "code",
   "execution_count": 25,
   "id": "6fb12874",
   "metadata": {},
   "outputs": [],
   "source": [
    "import pandas as pd\n",
    "import numpy as np"
   ]
  },
  {
   "attachments": {},
   "cell_type": "markdown",
   "id": "f76e1cee",
   "metadata": {},
   "source": [
    "## Importacao dos dados de treinamento\n"
   ]
  },
  {
   "cell_type": "code",
   "execution_count": 26,
   "id": "35b50c32",
   "metadata": {},
   "outputs": [
    {
     "data": {
      "text/html": [
       "<div>\n",
       "<style scoped>\n",
       "    .dataframe tbody tr th:only-of-type {\n",
       "        vertical-align: middle;\n",
       "    }\n",
       "\n",
       "    .dataframe tbody tr th {\n",
       "        vertical-align: top;\n",
       "    }\n",
       "\n",
       "    .dataframe thead th {\n",
       "        text-align: right;\n",
       "    }\n",
       "</style>\n",
       "<table border=\"1\" class=\"dataframe\">\n",
       "  <thead>\n",
       "    <tr style=\"text-align: right;\">\n",
       "      <th></th>\n",
       "      <th>text</th>\n",
       "      <th>label</th>\n",
       "    </tr>\n",
       "  </thead>\n",
       "  <tbody>\n",
       "    <tr>\n",
       "      <th>0</th>\n",
       "      <td>For a movie that gets no respect there sure ar...</td>\n",
       "      <td>pos</td>\n",
       "    </tr>\n",
       "    <tr>\n",
       "      <th>1</th>\n",
       "      <td>Bizarre horror movie filled with famous faces ...</td>\n",
       "      <td>pos</td>\n",
       "    </tr>\n",
       "    <tr>\n",
       "      <th>2</th>\n",
       "      <td>A solid, if unremarkable film. Matthau, as Ein...</td>\n",
       "      <td>pos</td>\n",
       "    </tr>\n",
       "    <tr>\n",
       "      <th>3</th>\n",
       "      <td>It's a strange feeling to sit alone in a theat...</td>\n",
       "      <td>pos</td>\n",
       "    </tr>\n",
       "    <tr>\n",
       "      <th>4</th>\n",
       "      <td>You probably all already know this by now, but...</td>\n",
       "      <td>pos</td>\n",
       "    </tr>\n",
       "  </tbody>\n",
       "</table>\n",
       "</div>"
      ],
      "text/plain": [
       "                                                text label\n",
       "0  For a movie that gets no respect there sure ar...   pos\n",
       "1  Bizarre horror movie filled with famous faces ...   pos\n",
       "2  A solid, if unremarkable film. Matthau, as Ein...   pos\n",
       "3  It's a strange feeling to sit alone in a theat...   pos\n",
       "4  You probably all already know this by now, but...   pos"
      ]
     },
     "execution_count": 26,
     "metadata": {},
     "output_type": "execute_result"
    }
   ],
   "source": [
    "import glob\n",
    "\n",
    "data = []\n",
    "files = glob.glob('aclimdb/train/pos/*.txt')\n",
    "\n",
    "for file in files:\n",
    "    with open(file, 'r') as f:\n",
    "        text = f.read()\n",
    "        data.append(text)\n",
    "\n",
    "train_df = pd.DataFrame({\"text\": data, \"label\": 'pos'})\n",
    "\n",
    "data = []\n",
    "files = glob.glob('aclimdb/train/neg/*.txt')\n",
    "\n",
    "for file in files:\n",
    "    with open(file, 'r') as f:\n",
    "        text = f.read()\n",
    "        data.append(text)\n",
    "\n",
    "train_df2 = pd.DataFrame({\"text\": data, \"label\": 'neg'})\n",
    "\n",
    "train_df = pd.concat([train_df, train_df2], axis=0)\n",
    "train_df.head()"
   ]
  },
  {
   "cell_type": "code",
   "execution_count": 27,
   "id": "58885a14",
   "metadata": {},
   "outputs": [
    {
     "data": {
      "text/html": [
       "<div>\n",
       "<style scoped>\n",
       "    .dataframe tbody tr th:only-of-type {\n",
       "        vertical-align: middle;\n",
       "    }\n",
       "\n",
       "    .dataframe tbody tr th {\n",
       "        vertical-align: top;\n",
       "    }\n",
       "\n",
       "    .dataframe thead th {\n",
       "        text-align: right;\n",
       "    }\n",
       "</style>\n",
       "<table border=\"1\" class=\"dataframe\">\n",
       "  <thead>\n",
       "    <tr style=\"text-align: right;\">\n",
       "      <th></th>\n",
       "      <th>text</th>\n",
       "      <th>label</th>\n",
       "    </tr>\n",
       "  </thead>\n",
       "  <tbody>\n",
       "    <tr>\n",
       "      <th>count</th>\n",
       "      <td>25000</td>\n",
       "      <td>25000</td>\n",
       "    </tr>\n",
       "    <tr>\n",
       "      <th>unique</th>\n",
       "      <td>24904</td>\n",
       "      <td>2</td>\n",
       "    </tr>\n",
       "    <tr>\n",
       "      <th>top</th>\n",
       "      <td>How has this piece of crap stayed on TV this l...</td>\n",
       "      <td>pos</td>\n",
       "    </tr>\n",
       "    <tr>\n",
       "      <th>freq</th>\n",
       "      <td>3</td>\n",
       "      <td>12500</td>\n",
       "    </tr>\n",
       "  </tbody>\n",
       "</table>\n",
       "</div>"
      ],
      "text/plain": [
       "                                                     text  label\n",
       "count                                               25000  25000\n",
       "unique                                              24904      2\n",
       "top     How has this piece of crap stayed on TV this l...    pos\n",
       "freq                                                    3  12500"
      ]
     },
     "execution_count": 27,
     "metadata": {},
     "output_type": "execute_result"
    }
   ],
   "source": [
    "train_df.describe()"
   ]
  },
  {
   "cell_type": "code",
   "execution_count": 28,
   "id": "c4959c0e",
   "metadata": {},
   "outputs": [
    {
     "data": {
      "text/html": [
       "<div>\n",
       "<style scoped>\n",
       "    .dataframe tbody tr th:only-of-type {\n",
       "        vertical-align: middle;\n",
       "    }\n",
       "\n",
       "    .dataframe tbody tr th {\n",
       "        vertical-align: top;\n",
       "    }\n",
       "\n",
       "    .dataframe thead th {\n",
       "        text-align: right;\n",
       "    }\n",
       "</style>\n",
       "<table border=\"1\" class=\"dataframe\">\n",
       "  <thead>\n",
       "    <tr style=\"text-align: right;\">\n",
       "      <th></th>\n",
       "      <th>text</th>\n",
       "    </tr>\n",
       "    <tr>\n",
       "      <th>label</th>\n",
       "      <th></th>\n",
       "    </tr>\n",
       "  </thead>\n",
       "  <tbody>\n",
       "    <tr>\n",
       "      <th>neg</th>\n",
       "      <td>12500</td>\n",
       "    </tr>\n",
       "    <tr>\n",
       "      <th>pos</th>\n",
       "      <td>12500</td>\n",
       "    </tr>\n",
       "  </tbody>\n",
       "</table>\n",
       "</div>"
      ],
      "text/plain": [
       "        text\n",
       "label       \n",
       "neg    12500\n",
       "pos    12500"
      ]
     },
     "execution_count": 28,
     "metadata": {},
     "output_type": "execute_result"
    }
   ],
   "source": [
    "train_df.groupby('label').count()"
   ]
  },
  {
   "attachments": {},
   "cell_type": "markdown",
   "id": "e9d74482",
   "metadata": {},
   "source": [
    "## Importacao dos dados de teste"
   ]
  },
  {
   "cell_type": "code",
   "execution_count": 29,
   "id": "e989a1b5",
   "metadata": {},
   "outputs": [
    {
     "data": {
      "text/html": [
       "<div>\n",
       "<style scoped>\n",
       "    .dataframe tbody tr th:only-of-type {\n",
       "        vertical-align: middle;\n",
       "    }\n",
       "\n",
       "    .dataframe tbody tr th {\n",
       "        vertical-align: top;\n",
       "    }\n",
       "\n",
       "    .dataframe thead th {\n",
       "        text-align: right;\n",
       "    }\n",
       "</style>\n",
       "<table border=\"1\" class=\"dataframe\">\n",
       "  <thead>\n",
       "    <tr style=\"text-align: right;\">\n",
       "      <th></th>\n",
       "      <th>text</th>\n",
       "      <th>label</th>\n",
       "    </tr>\n",
       "  </thead>\n",
       "  <tbody>\n",
       "    <tr>\n",
       "      <th>0</th>\n",
       "      <td>Based on an actual story, John Boorman shows t...</td>\n",
       "      <td>pos</td>\n",
       "    </tr>\n",
       "    <tr>\n",
       "      <th>1</th>\n",
       "      <td>This is a gem. As a Film Four production - the...</td>\n",
       "      <td>pos</td>\n",
       "    </tr>\n",
       "    <tr>\n",
       "      <th>2</th>\n",
       "      <td>I really like this show. It has drama, romance...</td>\n",
       "      <td>pos</td>\n",
       "    </tr>\n",
       "    <tr>\n",
       "      <th>3</th>\n",
       "      <td>This is the best 3-D experience Disney has at ...</td>\n",
       "      <td>pos</td>\n",
       "    </tr>\n",
       "    <tr>\n",
       "      <th>4</th>\n",
       "      <td>Of the Korean movies I've seen, only three had...</td>\n",
       "      <td>pos</td>\n",
       "    </tr>\n",
       "  </tbody>\n",
       "</table>\n",
       "</div>"
      ],
      "text/plain": [
       "                                                text label\n",
       "0  Based on an actual story, John Boorman shows t...   pos\n",
       "1  This is a gem. As a Film Four production - the...   pos\n",
       "2  I really like this show. It has drama, romance...   pos\n",
       "3  This is the best 3-D experience Disney has at ...   pos\n",
       "4  Of the Korean movies I've seen, only three had...   pos"
      ]
     },
     "execution_count": 29,
     "metadata": {},
     "output_type": "execute_result"
    }
   ],
   "source": [
    "import glob\n",
    "\n",
    "data = []\n",
    "files = glob.glob('aclimdb/test/pos/*.txt')\n",
    "\n",
    "for file in files:\n",
    "    with open(file, 'r') as f:\n",
    "        text = f.read()\n",
    "        data.append(text)\n",
    "\n",
    "test_df = pd.DataFrame({\"text\": data, \"label\": 'pos'})\n",
    "\n",
    "data = []\n",
    "files = glob.glob('aclimdb/test/neg/*.txt')\n",
    "\n",
    "for file in files:\n",
    "    with open(file, 'r') as f:\n",
    "        text = f.read()\n",
    "        data.append(text)\n",
    "\n",
    "test_df2 = pd.DataFrame({\"text\": data, \"label\": 'neg'})\n",
    "\n",
    "test_df = pd.concat([test_df, test_df2], axis=0)\n",
    "test_df.head()"
   ]
  },
  {
   "cell_type": "code",
   "execution_count": 30,
   "id": "9c32b3c4",
   "metadata": {},
   "outputs": [
    {
     "data": {
      "text/html": [
       "<div>\n",
       "<style scoped>\n",
       "    .dataframe tbody tr th:only-of-type {\n",
       "        vertical-align: middle;\n",
       "    }\n",
       "\n",
       "    .dataframe tbody tr th {\n",
       "        vertical-align: top;\n",
       "    }\n",
       "\n",
       "    .dataframe thead th {\n",
       "        text-align: right;\n",
       "    }\n",
       "</style>\n",
       "<table border=\"1\" class=\"dataframe\">\n",
       "  <thead>\n",
       "    <tr style=\"text-align: right;\">\n",
       "      <th></th>\n",
       "      <th>text</th>\n",
       "      <th>label</th>\n",
       "    </tr>\n",
       "  </thead>\n",
       "  <tbody>\n",
       "    <tr>\n",
       "      <th>count</th>\n",
       "      <td>25000</td>\n",
       "      <td>25000</td>\n",
       "    </tr>\n",
       "    <tr>\n",
       "      <th>unique</th>\n",
       "      <td>24801</td>\n",
       "      <td>2</td>\n",
       "    </tr>\n",
       "    <tr>\n",
       "      <th>top</th>\n",
       "      <td>Loved today's show!!! It was a variety and not...</td>\n",
       "      <td>pos</td>\n",
       "    </tr>\n",
       "    <tr>\n",
       "      <th>freq</th>\n",
       "      <td>5</td>\n",
       "      <td>12500</td>\n",
       "    </tr>\n",
       "  </tbody>\n",
       "</table>\n",
       "</div>"
      ],
      "text/plain": [
       "                                                     text  label\n",
       "count                                               25000  25000\n",
       "unique                                              24801      2\n",
       "top     Loved today's show!!! It was a variety and not...    pos\n",
       "freq                                                    5  12500"
      ]
     },
     "execution_count": 30,
     "metadata": {},
     "output_type": "execute_result"
    }
   ],
   "source": [
    "test_df.describe()"
   ]
  },
  {
   "cell_type": "code",
   "execution_count": 31,
   "id": "b840a021",
   "metadata": {},
   "outputs": [
    {
     "data": {
      "text/html": [
       "<div>\n",
       "<style scoped>\n",
       "    .dataframe tbody tr th:only-of-type {\n",
       "        vertical-align: middle;\n",
       "    }\n",
       "\n",
       "    .dataframe tbody tr th {\n",
       "        vertical-align: top;\n",
       "    }\n",
       "\n",
       "    .dataframe thead th {\n",
       "        text-align: right;\n",
       "    }\n",
       "</style>\n",
       "<table border=\"1\" class=\"dataframe\">\n",
       "  <thead>\n",
       "    <tr style=\"text-align: right;\">\n",
       "      <th></th>\n",
       "      <th>text</th>\n",
       "    </tr>\n",
       "    <tr>\n",
       "      <th>label</th>\n",
       "      <th></th>\n",
       "    </tr>\n",
       "  </thead>\n",
       "  <tbody>\n",
       "    <tr>\n",
       "      <th>neg</th>\n",
       "      <td>12500</td>\n",
       "    </tr>\n",
       "    <tr>\n",
       "      <th>pos</th>\n",
       "      <td>12500</td>\n",
       "    </tr>\n",
       "  </tbody>\n",
       "</table>\n",
       "</div>"
      ],
      "text/plain": [
       "        text\n",
       "label       \n",
       "neg    12500\n",
       "pos    12500"
      ]
     },
     "execution_count": 31,
     "metadata": {},
     "output_type": "execute_result"
    }
   ],
   "source": [
    "test_df.groupby('label').count()"
   ]
  },
  {
   "attachments": {},
   "cell_type": "markdown",
   "id": "4e231808",
   "metadata": {},
   "source": [
    "# Sobre a base de dados\n",
    "\n",
    "Essa base de dados foi dividida em 25000 dados de treinamento e 25000 dados de teste.\n",
    "\n",
    "Ela é uma base adequada para estudo pois esta bem equilibrada e ja foi utilizada em outros estudos."
   ]
  },
  {
   "cell_type": "markdown",
   "id": "48189505",
   "metadata": {},
   "source": []
  }
 ],
 "metadata": {
  "kernelspec": {
   "display_name": "Python 3 (ipykernel)",
   "language": "python",
   "name": "python3"
  },
  "language_info": {
   "codemirror_mode": {
    "name": "ipython",
    "version": 3
   },
   "file_extension": ".py",
   "mimetype": "text/x-python",
   "name": "python",
   "nbconvert_exporter": "python",
   "pygments_lexer": "ipython3",
   "version": "3.9.12"
  }
 },
 "nbformat": 4,
 "nbformat_minor": 5
}
